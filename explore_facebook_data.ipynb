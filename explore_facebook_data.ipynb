{
 "cells": [
  {
   "cell_type": "code",
   "execution_count": 17,
   "metadata": {},
   "outputs": [],
   "source": [
    "import json\n",
    "import os, sys\n",
    "from shutil import rmtree"
   ]
  },
  {
   "cell_type": "code",
   "execution_count": 247,
   "metadata": {},
   "outputs": [],
   "source": [
    "DATADIR = './data/facebook_conversations/messages'\n",
    "FILENAME = 'message.json'\n",
    "OUTPUT_FILENAME = './data/facebook_conversations/all_facebook.json'\n",
    "\n",
    "UNWANTED_CATEGORIES = set(['photos', 'files', 'videos', 'gifs', 'audio_files', 'plan', 'videos'])\n"
   ]
  },
  {
   "cell_type": "code",
   "execution_count": 25,
   "metadata": {},
   "outputs": [],
   "source": [
    "# cleaning up unwanted files\n",
    "def clean_up(root_dir):\n",
    "    for dir in os.listdir(root_dir):\n",
    "\n",
    "        conv_dir = os.path.join(root_dir, dir)\n",
    "        files_list = os.listdir(conv_dir)\n",
    "\n",
    "        # to delete directories containing images, photos, ... (i.e. not message.json files)\n",
    "        for file in files_list:\n",
    "            if file != 'message.json':\n",
    "                rmtree(os.path.join(conv_dir, file))\n",
    "\n",
    "        # to delete empty directories not containing a message.json file\n",
    "        if not files_list:\n",
    "            os.rmdir(conv_dir)\n",
    "\n"
   ]
  },
  {
   "cell_type": "markdown",
   "metadata": {},
   "source": [
    "## 'message.json' file structure\n",
    "\n",
    "Files are composed of 5 or 6 categories (mainly 6) :\n",
    "\n",
    "* **participants** : List of participants as `{'name': Name}`\n",
    "* **messages** : List of messages. See later.\n",
    "* **is_still_participant** : Bool. If am still in conversation\n",
    "* **thread_type** : *Regular* (friends), *RegularGroup* (Group Chat) or Pending (*not friends*)\n",
    "* **thread_path** : file in which the `message.json` is found\n",
    "* **title** (Optional) : title of conversation (or name of participants)\n",
    "\n",
    "#### Messages\n",
    "\n",
    "* **type** Type of message\n",
    "    - Generic (*only one we keep*)\n",
    "    - Call\n",
    "    - Subscribe\n",
    "    - Unsubscribe (leave group)\n",
    "    - Share (send an attachment)\n",
    "    - Plan (evenement?)\n",
    "* **timestamp_ms**\n",
    "* **sender_name** : *important pour savoir qui envoie les messages!!!!*\n",
    "* **content** : *partie importante. contient le message*\n",
    "* **reactions** (Optional) : reactions to a message. Presented as a list of {'actor': Actor, 'reaction' : Reaction}\n",
    "* **stickers** (Optional) : Contains emoji. Filter stickers... Can discard for now...\n",
    "\n",
    "WE DISCARD MESSAGES IF THEY CONTAIN ANY OF THOSE THINGS.\n",
    "\n",
    "May be possible to parse to see if the messages not having the `Name sent a photo` pattern are useful...\n",
    "\n",
    "* **photos**\n",
    "* **gifs**\n",
    "* **audio_files**\n",
    "* **plan**\n",
    "* **videos**\n",
    "* **files**\n"
   ]
  },
  {
   "cell_type": "code",
   "execution_count": 209,
   "metadata": {},
   "outputs": [],
   "source": [
    "def show_file_structure(json_file):\n",
    "    \n",
    "    with open(json_file) as file:\n",
    "        conversation = json.load(file)\n",
    "        \n",
    "#     print(json.dumps(conversation, indent=4, sort_keys=True))\n",
    "\n",
    "    messages = conversation['messages']\n",
    "    \n",
    "    for message in messages:\n",
    "        \n",
    "        if message['type'] == 'Generic' and 'content' in message and chosen_categ in message:\n",
    "            print(json.dumps(message, indent=4, sort_keys=True))"
   ]
  },
  {
   "cell_type": "code",
   "execution_count": 240,
   "metadata": {},
   "outputs": [],
   "source": [
    "# parsing a message.json file\n",
    "\n",
    "def parse_conversation(json_file, all_conversations):\n",
    "    \n",
    "    with open(json_file) as file:\n",
    "        conversation = json.load(file)\n",
    "        \n",
    "    messages = conversation['messages']\n",
    "    \n",
    "    for message in messages:\n",
    "        if message_is_valid(message):\n",
    "            \n",
    "            all_conversations.append({'content': message['content'],\n",
    "                                      'sender_name': message['sender_name'],\n",
    "                                      'timestamp_ms': message['timestamp_ms']})\n",
    "        \n"
   ]
  },
  {
   "cell_type": "code",
   "execution_count": 241,
   "metadata": {},
   "outputs": [],
   "source": [
    "def message_is_valid(message):\n",
    "    \n",
    "    # if message contains unwanted category we discard\n",
    "    if UNWANTED_CATEGORIES.intersection(set([categ for categ in message])):\n",
    "        return False\n",
    "\n",
    "    # weird case\n",
    "    elif 'content' not in message or 'sender_name' not in message:\n",
    "        return False\n",
    "    \n",
    "    return True"
   ]
  },
  {
   "cell_type": "code",
   "execution_count": 248,
   "metadata": {},
   "outputs": [],
   "source": [
    "all_conversations = []\n",
    "\n",
    "\n",
    "for i, dir in enumerate(os.listdir(DATADIR)):\n",
    "    \n",
    "    conv_dir = os.path.join(DATADIR, dir)\n",
    "    conv_file = os.path.join(conv_dir, FILENAME)\n",
    "\n",
    "    parse_conversation(conv_file, all_conversations)\n",
    "    \n",
    "with open(OUTPUT_FILENAME, 'w') as fout:\n",
    "    json.dump(all_conversations, fout)\n",
    "    "
   ]
  },
  {
   "cell_type": "code",
   "execution_count": null,
   "metadata": {},
   "outputs": [],
   "source": [
    "### Preprocess the facebook data"
   ]
  }
 ],
 "metadata": {
  "kernelspec": {
   "display_name": "Python 3",
   "language": "python",
   "name": "python3"
  },
  "language_info": {
   "codemirror_mode": {
    "name": "ipython",
    "version": 3
   },
   "file_extension": ".py",
   "mimetype": "text/x-python",
   "name": "python",
   "nbconvert_exporter": "python",
   "pygments_lexer": "ipython3",
   "version": "3.6.4"
  }
 },
 "nbformat": 4,
 "nbformat_minor": 2
}
